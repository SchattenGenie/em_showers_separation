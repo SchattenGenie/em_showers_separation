{
 "cells": [
  {
   "cell_type": "code",
   "execution_count": 1,
   "metadata": {},
   "outputs": [],
   "source": [
    "from mpl_toolkits.mplot3d import Axes3D\n",
    "from mpl_toolkits.mplot3d.art3d import Line3DCollection\n",
    "import numpy as np\n",
    "import seaborn as sns\n",
    "import os\n",
    "import pickle\n",
    "\n",
    "import torch\n",
    "import torch.nn as nn\n",
    "import torch.optim as optim\n",
    "import torch.nn.functional as F\n",
    "\n",
    "from tqdm import tqdm\n",
    "import networkx as nx"
   ]
  },
  {
   "cell_type": "code",
   "execution_count": 2,
   "metadata": {},
   "outputs": [],
   "source": [
    "import os\n",
    "os.environ[\"CUDA_DEVICE_ORDER\"]=\"PCI_BUS_ID\"   \n",
    "os.environ[\"CUDA_VISIBLE_DEVICES\"]=\"1\""
   ]
  },
  {
   "cell_type": "code",
   "execution_count": 3,
   "metadata": {},
   "outputs": [],
   "source": [
    "from nmp.node import Node\n",
    "from nmp.edge import Edge\n",
    "from nmp.message_passer import MessagePasser\n",
    "from nmp.state_updater import StateUpdater\n",
    "from nmp.nmp_tools import get_lablesx, get_central_node, preprocess_graphx\n",
    "from nmp.nmp_tools import run_message_passing, make_predictions, get_random_subgraphx"
   ]
  },
  {
   "cell_type": "code",
   "execution_count": 4,
   "metadata": {},
   "outputs": [],
   "source": [
    "import os\n",
    "import psutil\n",
    "from sklearn.metrics import roc_auc_score, average_precision_score, accuracy_score, log_loss\n",
    "from sklearn.metrics import precision_recall_curve\n",
    "from IPython.display import clear_output\n",
    "\n",
    "process = psutil.Process(os.getpid())"
   ]
  },
  {
   "cell_type": "code",
   "execution_count": 5,
   "metadata": {},
   "outputs": [],
   "source": [
    "device = torch.device('cuda')"
   ]
  },
  {
   "cell_type": "markdown",
   "metadata": {},
   "source": [
    "## Необходимые приготовления(признаки и архитектуры)\n",
    "\n",
    "Первое: объявляем функции для извлечения признаков из вершин и рёбер."
   ]
  },
  {
   "cell_type": "code",
   "execution_count": 6,
   "metadata": {},
   "outputs": [],
   "source": [
    "from typing import Callable\n",
    "\n",
    "def node_feature_exctractor(node, node_shape: int):\n",
    "    return np.array(\n",
    "                    [\n",
    "                        #(node['features']['SX'] - 50001) / (20 * 1293.),\n",
    "                        #(node['features']['SY'] - 40011) / (20 * 1293.),\n",
    "                        #(node['features']['SZ'] - 36850.5) / (1293 * 57),\n",
    "                        node['features']['TX'],\n",
    "                        node['features']['TY'],\n",
    "                        #(node['features']['chi2'] - 1.5) / 1.5\n",
    "                    ] + (node_shape - 2) * [0.]\n",
    "                )\n",
    "def edge_feature_exctractor(edge_uv, edge_shape: int):\n",
    "    return np.array(\n",
    "                    [\n",
    "                        edge_uv['features']['dsx'],\n",
    "                        edge_uv['features']['dsy'],\n",
    "                        edge_uv['features']['dsz'],\n",
    "                       (edge_uv['features']['r'] - 200) / 200,\n",
    "                       (edge_uv['features']['E'] - 462.) / 1258., \n",
    "                      -(edge_uv['features']['likelihood'] + 17) / 20\n",
    "                    ] + (edge_shape - 6) * [0.]\n",
    "                )"
   ]
  },
  {
   "cell_type": "markdown",
   "metadata": {},
   "source": [
    "Второе: объявляем нейронки для пересылки сообщений, обновления состояния и readout."
   ]
  },
  {
   "cell_type": "code",
   "execution_count": 7,
   "metadata": {},
   "outputs": [],
   "source": [
    "class MessagePasserNN(nn.Module):\n",
    "    def __init__(self, input, output):\n",
    "        super().__init__()\n",
    "        self.layer_1 = nn.Linear(input, 32) # 32 / 64\n",
    "        self.dropout_1 = nn.Dropout(p=0.1)\n",
    "        self.nonlinear_1 = nn.LeakyReLU()\n",
    "        self.layer_2 = nn.Linear(32, 16)\n",
    "        self.nonlinear_2 = nn.LeakyReLU()\n",
    "        #self.layer_3 = nn.Linear(32, 32)\n",
    "        #self.nonlinear_3 = nn.LeakyReLU()\n",
    "        self.output = nn.Linear(16, output)\n",
    "\n",
    "    def forward(self, x):\n",
    "        x = self.nonlinear_1(self.dropout_1(self.layer_1(x)))\n",
    "        x = self.nonlinear_2(self.layer_2(x))\n",
    "        #x = self.nonlinear_3(self.layer_3(x))\n",
    "        return self.output(x)\n",
    "    \n",
    "class StateUpdaterNN(nn.Module):\n",
    "    def __init__(self, input, output):\n",
    "        super().__init__()\n",
    "        self.gru = nn.GRUCell(input, output)\n",
    "    \n",
    "    def forward(self, x, hidden_state):\n",
    "        hidden_state = self.gru(x, hidden_state)\n",
    "        return hidden_state\n",
    "    \n",
    "    \n",
    "class Readout(object):\n",
    "    def __init__(self, input: int, output: int, readout: nn.Module, device):\n",
    "        \"\"\"\n",
    "        :param scope:\n",
    "        \"\"\"\n",
    "        self.input = input\n",
    "        self.output = output\n",
    "        self.device = device\n",
    "        self.readout = readout(input, output).to(self.device)\n",
    "\n",
    "    def predict(self, node: 'Node'):\n",
    "        return self.readout(node.state[None, :])\n",
    "    \n",
    "    \n",
    "class ReadoutNN(nn.Module):\n",
    "    def __init__(self, input, output):\n",
    "        super().__init__()\n",
    "        self.layer_1 = nn.Linear(input, 32)\n",
    "        self.dropout_1 = nn.Dropout(p=0.1)\n",
    "        self.nonlinear_1 = nn.LeakyReLU()\n",
    "\n",
    "        self.mean = nn.Linear(32, output)\n",
    "        self.sigma = nn.Linear(32, output)\n",
    "        \n",
    "    def forward(self, x):\n",
    "        x = self.nonlinear_1(self.dropout_1(self.layer_1(x)))\n",
    "        mean = self.mean(x)\n",
    "        sigma = self.sigma(x)\n",
    "        return mean, sigma"
   ]
  },
  {
   "cell_type": "code",
   "execution_count": 8,
   "metadata": {},
   "outputs": [],
   "source": [
    "class WeightedMessages(nn.Module):\n",
    "    def __init__(self, input):\n",
    "        super().__init__()\n",
    "        #self.layer_1 = nn.Linear(input, 8)\n",
    "        #self.nonlinear_1 = nn.LeakyReLU()\n",
    "        self.output = nn.Linear(input, 1)\n",
    "    def forward(self, x):\n",
    "        #x = self.nonlinear_1(self.layer_1(x))\n",
    "        return F.sigmoid(self.output(x))\n",
    "    \n",
    "wmessages = WeightedMessages(3).to(device)"
   ]
  },
  {
   "cell_type": "markdown",
   "metadata": {},
   "source": [
    "## Инициализация функций"
   ]
  },
  {
   "cell_type": "code",
   "execution_count": 9,
   "metadata": {},
   "outputs": [],
   "source": [
    "### shapes of nodes edges and messages\n",
    "node_shape = 16 # tx, ty, chi2 + zeros\n",
    "edge_shape = 6 # \\delta_x \\delta_y r\n",
    "message_size = 16\n",
    "\n",
    "### message passers for different steps\n",
    "message_passer_first = MessagePasser(node_to_size=node_shape, node_from_size=node_shape, \n",
    "                               edge_size=edge_shape, message_size=message_size, message_passer=MessagePasserNN, device=device)\n",
    "message_passer_second = MessagePasser(node_to_size=node_shape, node_from_size=node_shape, \n",
    "                               edge_size=edge_shape, message_size=message_size, message_passer=MessagePasserNN, device=device)\n",
    "message_passer_third = MessagePasser(node_to_size=node_shape, node_from_size=node_shape, \n",
    "                               edge_size=edge_shape, message_size=message_size, message_passer=MessagePasserNN, device=device)\n",
    "message_passer_forth = MessagePasser(node_to_size=node_shape, node_from_size=node_shape, \n",
    "                               edge_size=edge_shape, message_size=message_size, message_passer=MessagePasserNN, device=device)\n",
    "\n",
    "message_passers = {\n",
    "    0: message_passer_first,\n",
    "    1: message_passer_second,\n",
    "    2: message_passer_third,\n",
    "    3: message_passer_forth\n",
    "}\n",
    "\n",
    "### state updater\n",
    "state_updater = StateUpdater(input=message_size, output=node_shape, state_updater=StateUpdaterNN, device=device) \n",
    "\n",
    "### readout function\n",
    "readout = Readout(input=node_shape, output=1, readout=ReadoutNN, device=device)"
   ]
  },
  {
   "cell_type": "markdown",
   "metadata": {},
   "source": [
    "Параметры засовываем в словарь, так проще."
   ]
  },
  {
   "cell_type": "markdown",
   "metadata": {},
   "source": [
    "## Загрузка данных"
   ]
  },
  {
   "cell_type": "code",
   "execution_count": 10,
   "metadata": {},
   "outputs": [],
   "source": [
    "from glob import glob\n",
    "import pickle\n",
    "with open('./data/dataset_mpnn.pickle', 'rb') as f:\n",
    "    train_data=pickle.load(f)"
   ]
  },
  {
   "cell_type": "code",
   "execution_count": 11,
   "metadata": {},
   "outputs": [],
   "source": [
    "train_data = train_data"
   ]
  },
  {
   "cell_type": "code",
   "execution_count": 12,
   "metadata": {},
   "outputs": [
    {
     "name": "stdout",
     "output_type": "stream",
     "text": [
      "Number of trainable parameters 7110\n"
     ]
    }
   ],
   "source": [
    "### optimizer\n",
    "params_trainable = (\n",
    "    list(message_passer_first.message_passer.parameters()) + \n",
    "    list(message_passer_second.message_passer.parameters()) + \n",
    "    list(readout.readout.parameters()) + \n",
    "    list(wmessages.parameters()) + \n",
    "    list(state_updater.state_updater.parameters()))\n",
    "print('Number of trainable parameters {}'.format(sum([p.numel() for p in params_trainable])))\n",
    "optimizer_params = optim.RMSprop(params_trainable, lr=1e-3)\n",
    "\n",
    "params_mpnn = dict(\n",
    "    optimizer_params=optimizer_params,\n",
    "    node_shape=node_shape,\n",
    "    edge_shape=edge_shape,\n",
    "    readout=readout,\n",
    "    message_passers=message_passers,\n",
    "    state_updater=state_updater,\n",
    "    node_feature_exctractor=node_feature_exctractor,\n",
    "    edge_feature_exctractor=edge_feature_exctractor,\n",
    "    order=-1,\n",
    "    steps=3,\n",
    "    margin=2.,\n",
    "    wmessages=wmessages,\n",
    "    device=device\n",
    ")"
   ]
  },
  {
   "cell_type": "code",
   "execution_count": 13,
   "metadata": {},
   "outputs": [
    {
     "name": "stderr",
     "output_type": "stream",
     "text": [
      "/home/vbelavin/home/anaconda3/envs/rootenv/lib/python3.6/site-packages/root_numpy/__init__.py:46: RuntimeWarning: numpy 1.14.5 is currently installed but you installed root_numpy against numpy 1.12.1. Please consider reinstalling root_numpy for this numpy version.\n",
      "  RuntimeWarning)\n"
     ]
    }
   ],
   "source": [
    "from tqdm import tqdm\n",
    "from tools.opera_tools import scattering_estimation_loss\n",
    "\n",
    "def preprocess_graphx(graphx: nx.DiGraph, \n",
    "                      node_shape: int, \n",
    "                      edge_shape: int, \n",
    "                      message_passers: dict, \n",
    "                      state_updater: StateUpdater,\n",
    "                      node_feature_exctractor: Callable, \n",
    "                      edge_feature_exctractor: Callable,\n",
    "                      device,\n",
    "                      order: int = -1,\n",
    "                      balanced=True, **kwargs):\n",
    "    \"\"\"\n",
    "    if order <= 0 => the whole graph is proceeded\n",
    "    \"\"\"\n",
    "    edges_to_delete = []\n",
    "    for i, (node_u_idx, node_v_idx, edge_uv) in enumerate(graphx.edges(data=True)):\n",
    "        if edge_uv['features']['dsz'] <= 0:\n",
    "            edges_to_delete.append((node_u_idx, node_v_idx))\n",
    "    X_nodes = []\n",
    "    X_edges = []\n",
    "    X_nodes_out = []\n",
    "    X_nodes_in = []\n",
    "    \n",
    "    nodes_name_ids_conversion = {}\n",
    "    nodes_ids_name_conversion = {}\n",
    "    \n",
    "    # add torch nodes to graphx attributes\n",
    "    for i, (node_id, node) in enumerate(graphx.nodes(data=True)):\n",
    "        nodes_name_ids_conversion[node_id] = i\n",
    "        nodes_ids_name_conversion[i] = node_id\n",
    "        node_torch = Node(\n",
    "            name=str(node_id),\n",
    "            data=node_feature_exctractor(node, node_shape=node_shape),\n",
    "            device=device\n",
    "        )\n",
    "        node_torch.set_state_updater(state_updater=state_updater)\n",
    "        node['node_torch'] = node_torch\n",
    "        node['order'] = -1\n",
    "        X_nodes.append(node_feature_exctractor(node, node_shape=node_shape))\n",
    "\n",
    "    \n",
    "    edges_name_ids_conversion = {}\n",
    "    edges_ids_name_conversion = {}\n",
    "    # add troch edges to subgraph attributes\n",
    "    for i, (node_u_idx, node_v_idx, edge_uv) in enumerate(graphx.edges(data=True)):\n",
    "        edges_name_ids_conversion[(node_u_idx, node_v_idx)] = i\n",
    "        edges_ids_name_conversion[i] = (node_u_idx, node_v_idx)\n",
    "        X_nodes_out.append(\n",
    "            nodes_name_ids_conversion[node_u_idx]\n",
    "        )\n",
    "        X_nodes_in.append(\n",
    "            nodes_name_ids_conversion[node_v_idx]\n",
    "        )\n",
    "        node_u_torch = graphx.node[node_u_idx]['node_torch']\n",
    "        node_v_torch = graphx.node[node_v_idx]['node_torch']\n",
    "        node_u_torch.edges_out.append(i)\n",
    "        node_v_torch.edges_in.append(i)\n",
    "        # create edge that connects node_u node_v\n",
    "        edge_uv_torch = Edge(\n",
    "            name=node_u_torch.name + '_' + node_v_torch.name, \n",
    "            data=edge_feature_exctractor(edge_uv, edge_shape),\n",
    "            device=device\n",
    "        )\n",
    "        \n",
    "        edge_uv_torch.set_message_passers(message_passers=message_passers, \n",
    "                                          node_to=node_u_torch, \n",
    "                                          node_from=node_v_torch)\n",
    "        \n",
    "        edge_uv['edge_torch'] = edge_uv_torch\n",
    "        X_edges.append(edge_feature_exctractor(edge_uv, edge_shape))\n",
    "    \n",
    "\n",
    "    \n",
    "    X_messages_in = []\n",
    "    X_messages_out = []\n",
    "    max_in = 0\n",
    "    max_out = 0\n",
    "    for i, node in graphx.nodes(data=True):\n",
    "        node_torch=node['node_torch']\n",
    "        max_in = max(max_in, len(node_torch.edges_in))\n",
    "        max_out = max(max_out, len(node_torch.edges_out))\n",
    "    for i, node in graphx.nodes(data=True):\n",
    "        node_torch=node['node_torch']\n",
    "        X_messages_in.append(\n",
    "            node_torch.edges_in + [-1] * (max_in - len(node_torch.edges_in))\n",
    "        )\n",
    "        X_messages_out.append(\n",
    "            node_torch.edges_out + [-1] * (max_out - len(node_torch.edges_out))\n",
    "        )\n",
    "    weights = []\n",
    "    for i, j, edge in tqdm(graphx.edges(data=True), leave=False):\n",
    "        weights.append([\n",
    "            (edge['features']['r'] - 200) / 200, \n",
    "            (edge['features']['E'] - 462.) / 1258., \n",
    "            -(edge['features']['likelihood'] + 17) / 20]\n",
    "        )\n",
    "    true_labels = []\n",
    "    for _, node in graphx.nodes(data=True):\n",
    "        true_labels.append(node['signal'])\n",
    "    \n",
    "    # dirty hack\n",
    "    X_nodes.append(node_shape * [0.])\n",
    "    X_edges.append(edge_shape * [0.])\n",
    "    X_nodes_out.append(-1)\n",
    "    X_nodes_in.append(-1)\n",
    "    X_messages_in.append(max_in * [-1])\n",
    "    X_messages_out.append(max_out * [-1])\n",
    "    weights.append(3 * [0])\n",
    "    #true_labels.append(0.)\n",
    "    \n",
    "    graphx.graph['X_nodes'] = torch.tensor(X_nodes, requires_grad=False, dtype=torch.float32).to(device)\n",
    "    graphx.graph['X_edges'] = torch.tensor(X_edges, requires_grad=False, dtype=torch.float32).to(device)\n",
    "    graphx.graph['X_nodes_out'] = torch.LongTensor(X_nodes_out)\n",
    "    graphx.graph['X_nodes_in'] = torch.LongTensor(X_nodes_in)\n",
    "    graphx.graph['X_nodes_in_out'] = torch.LongTensor([X_nodes_in, X_nodes_out]).t()\n",
    "    graphx.graph['X_messages_in'] = torch.LongTensor(X_messages_in)\n",
    "    graphx.graph['X_messages_out'] = torch.LongTensor(X_messages_out)\n",
    "    #graphx.graph['X_messages_in_out'] = torch.LongTensor([X_messages_in, X_messages_out]).t()\n",
    "    graphx.graph['message_passers'] = message_passers\n",
    "    graphx.graph['state_updater'] = state_updater\n",
    "    \n",
    "    graphx.graph['nodes_name_ids_conversion'] = nodes_name_ids_conversion\n",
    "    graphx.graph['nodes_ids_name_conversion'] = nodes_ids_name_conversion\n",
    "    graphx.graph['E_weights'] = torch.tensor(weights, requires_grad=False, dtype=torch.float32).to(device)\n",
    "    graphx.graph['true_labels'] = torch.LongTensor(true_labels)\n",
    "    \n",
    "    return graphx"
   ]
  },
  {
   "cell_type": "code",
   "execution_count": 14,
   "metadata": {
    "scrolled": true
   },
   "outputs": [
    {
     "name": "stderr",
     "output_type": "stream",
     "text": [
      "\r",
      "100%|██████████| 415/415 [21:36<00:00,  3.12s/it]"
     ]
    },
    {
     "name": "stdout",
     "output_type": "stream",
     "text": [
      "CPU times: user 15min 58s, sys: 0 ns, total: 15min 58s\n",
      "Wall time: 21min 36s\n"
     ]
    },
    {
     "name": "stderr",
     "output_type": "stream",
     "text": [
      "\n"
     ]
    }
   ],
   "source": [
    "%%time\n",
    "for graphx in tqdm(train_data):\n",
    "    preprocess_graphx(graphx, **params_mpnn)\n",
    "    clear_output()"
   ]
  },
  {
   "cell_type": "code",
   "execution_count": 15,
   "metadata": {},
   "outputs": [],
   "source": [
    "def plot_clusters(nodes_predictions, true_labels, azim=47, elev=30):\n",
    "    nodes_predictions = np.array(nodes_predictions.detach())\n",
    "    true_labels = np.array(true_labels)\n",
    "    \n",
    "    \n",
    "    fig = plt.figure(figsize=(12, 12))\n",
    "    ax = fig.gca(projection='3d')\n",
    "    ax.view_init(azim=azim, elev=elev)\n",
    "    for cluster_id in np.unique(true_labels):\n",
    "        if cluster_id == 0.:\n",
    "            continue\n",
    "        l = len(nodes_predictions[true_labels==cluster_id, 0])\n",
    "        ax.scatter(\n",
    "            nodes_predictions[true_labels==cluster_id, 0],\n",
    "            nodes_predictions[true_labels==cluster_id, 1],\n",
    "            nodes_predictions[true_labels==cluster_id, 2],\n",
    "            alpha=0.4\n",
    "        )\n",
    "        \n",
    "    plt.show()"
   ]
  },
  {
   "cell_type": "code",
   "execution_count": 16,
   "metadata": {},
   "outputs": [],
   "source": [
    "def calc_clusters(nodes_predictions, true_labels):\n",
    "    nodes_means, nodes_std = nodes_predictions\n",
    "    labels = np.unique(true_labels).astype(float)\n",
    "    clusters = dict()\n",
    "    \n",
    "    for label in labels:\n",
    "        if label == 0.: continue\n",
    "        if (true_labels==label).sum() < 30: continue\n",
    "            \n",
    "        labeled_means = nodes_means[true_labels==label]\n",
    "        #labeled_std = nodes_std[true_labels==label]\n",
    "        mean = labeled_means.mean(dim=0)\n",
    "        clusters[label] = {\n",
    "            'mean': mean,\n",
    "        #    'b': b\n",
    "        }\n",
    "    \n",
    "    return clusters"
   ]
  },
  {
   "cell_type": "code",
   "execution_count": 17,
   "metadata": {},
   "outputs": [],
   "source": [
    "import hdmedians as hd\n",
    "\n",
    "def calc_clusters(nodes_predictions, true_labels, device):\n",
    "    nodes_means, nodes_std = nodes_predictions\n",
    "    labels = np.unique(true_labels).astype(float)\n",
    "    clusters = dict()\n",
    "    \n",
    "    for label in labels:\n",
    "        #if label == 0.: continue\n",
    "        #if (true_labels==label).sum() < 30: continue\n",
    "            \n",
    "        labeled_means = nodes_means[true_labels==label]\n",
    "        #labeled_std = nodes_std[true_labels==label]\n",
    "        X = labeled_means.cpu().detach().numpy()\n",
    "        median = np.array(hd.geomedian(X, axis=0))\n",
    "        D = np.linalg.norm(X - median, axis=1)\n",
    "        D_inv = 1 / D\n",
    "        D_inv[D_inv == np.inf] = 0.\n",
    "        W = D_inv / D_inv.sum()\n",
    "        mean = torch.tensor(W).to(device) @ labeled_means\n",
    "        del W\n",
    "        clusters[label] = {\n",
    "            'mean': mean,\n",
    "        #    'b': b\n",
    "        }\n",
    "    \n",
    "    return clusters"
   ]
  },
  {
   "cell_type": "code",
   "execution_count": 18,
   "metadata": {},
   "outputs": [],
   "source": [
    "def loss_similar(nodes_predictions, true_labels, clusters):\n",
    "    nodes_means, nodes_std = nodes_predictions\n",
    "    labels = np.unique(true_labels).astype(float)\n",
    "    \n",
    "    loss = 0.\n",
    "    for label in clusters.keys():\n",
    "        l = (nodes_means[true_labels==label] - clusters[label]['mean']).pow(2).sum(dim=1)\n",
    "        loss = loss + l.mean()\n",
    "    return loss / len(clusters.keys())\n",
    "\n",
    "\n",
    "def loss_distinct(clusters, margin=1.):\n",
    "    loss = 0.\n",
    "    N = len(clusters.keys())\n",
    "    for label_1 in clusters.keys():\n",
    "        for label_2 in clusters.keys():\n",
    "            if label_1 == label_2:\n",
    "                continue\n",
    "            l = (clusters[label_2]['mean'] - clusters[label_1]['mean']).norm()\n",
    "            l = torch.relu(margin - l).pow(2)\n",
    "            loss = loss + l\n",
    "    return loss / (N * (N - 1))"
   ]
  },
  {
   "cell_type": "code",
   "execution_count": 19,
   "metadata": {},
   "outputs": [],
   "source": [
    "def pairwise_distances(x, y = None):\n",
    "    x_norm = (x**2).sum(1).view(-1, 1)\n",
    "    if y is not None:\n",
    "        y_t = torch.transpose(y, 0, 1)\n",
    "        y_norm = (y**2).sum(1).view(1, -1)\n",
    "    else:\n",
    "        y_t = torch.transpose(x, 0, 1)\n",
    "        y_norm = x_norm.view(1, -1)\n",
    "    \n",
    "    dist = x_norm + y_norm - 2.0 * torch.mm(x, y_t)\n",
    "    return torch.clamp(dist, 0.0, np.inf)\n",
    "\n",
    "def make_contrastive_loss(nodes_predictions, true_labels, margin=1., **kwargs):\n",
    "    nodes_predictions = nodes_predictions[0]\n",
    "    loss = 0.\n",
    "    p = pairwise_distances(nodes_predictions)\n",
    "    unique_labels = np.unique(true_labels).astype(float)\n",
    "    N = len(nodes_predictions)\n",
    "    for i in range(len(unique_labels)):\n",
    "        for j in range(i + 1):\n",
    "            if unique_labels[i] == 0. or unique_labels[j] == 0:\n",
    "                continue\n",
    "            if i == j:\n",
    "                loss = loss + p[true_labels == unique_labels[i]][:, true_labels == unique_labels[j]].sum()\n",
    "            else:\n",
    "                loss = loss + torch.relu(margin - (1e-4 + p[true_labels == unique_labels[i]][:, true_labels == unique_labels[j]]).sqrt()).pow(2).sum()\n",
    "                \n",
    "    return loss / (N * (N - 1))"
   ]
  },
  {
   "cell_type": "code",
   "execution_count": 20,
   "metadata": {},
   "outputs": [],
   "source": [
    "def modularity_matrix(adj):\n",
    "    return adj - torch.ger(adj.sum(dim=0), adj.sum(dim=1)) / adj.sum()\n",
    "def calc_modularity_loss(modularm, states, sigma=1.):\n",
    "    return -(torch.exp(-(pairwise_distances(states, states) + 1e-5).sqrt()) * modularm).sum()"
   ]
  },
  {
   "cell_type": "code",
   "execution_count": 21,
   "metadata": {},
   "outputs": [],
   "source": [
    "def run_message_passing(graphx, params_mpnn):\n",
    "    device = params_mpnn['device']\n",
    "    true_labels = graphx.graph['true_labels']\n",
    "\n",
    "\n",
    "    X_nodes = graphx.graph['X_nodes']\n",
    "    X_edges = graphx.graph['X_edges']\n",
    "    E_weights = params_mpnn['wmessages'](graphx.graph['E_weights'])\n",
    "\n",
    "\n",
    "    for step in range(params_mpnn['steps']):\n",
    "        messages = E_weights * graphx.graph['message_passers'][step].message_passer(\n",
    "            torch.cat([X_nodes[graphx.graph['X_nodes_in_out']].view(len(X_edges), -1), X_edges], dim=1)\n",
    "        )\n",
    "        messages[-1] = -np.inf\n",
    "        \n",
    "        messages_aggregated_in = messages[graphx.graph['X_messages_in']].max(dim=1)[0]\n",
    "        messages_aggregated_in[messages_aggregated_in < -1e4] = 0\n",
    "\n",
    "        messages_aggregated_out = messages[graphx.graph['X_messages_out']].max(dim=1)[0]\n",
    "        messages_aggregated_out[messages_aggregated_out < -1e4] = 0\n",
    "\n",
    "        X_nodes = graphx.graph['state_updater'].state_updater(\n",
    "            torch.cat([messages_aggregated_in, messages_aggregated_out], dim=1), \n",
    "            X_nodes\n",
    "        )\n",
    "        del messages, messages_aggregated_in, messages_aggregated_out\n",
    "    \n",
    "    means, sigmas = readout.readout(X_nodes)\n",
    "    \n",
    "    del E_weights, X_nodes\n",
    "    return means[:-1], sigmas[:-1]"
   ]
  },
  {
   "cell_type": "code",
   "execution_count": 22,
   "metadata": {},
   "outputs": [
    {
     "name": "stdout",
     "output_type": "stream",
     "text": [
      "Number of trainable parameters 9158\n"
     ]
    }
   ],
   "source": [
    "## optimizer\n",
    "params_trainable = (\n",
    "    list(message_passer_first.message_passer.parameters()) + \n",
    "    list(message_passer_second.message_passer.parameters()) + \n",
    "    list(message_passer_third.message_passer.parameters()) +\n",
    "    #list(message_passer_forth.message_passer.parameters()) +\n",
    "    list(readout.readout.parameters()) + \n",
    "    list(wmessages.parameters()) + \n",
    "    list(state_updater.state_updater.parameters()))\n",
    "print('Number of trainable parameters {}'.format(sum([p.numel() for p in params_trainable])))\n",
    "optimizer_params = optim.RMSprop(params_trainable, lr=1e-3)\n",
    "\n",
    "params_mpnn = dict(\n",
    "    optimizer_params=optimizer_params,\n",
    "    node_shape=node_shape,\n",
    "    edge_shape=edge_shape,\n",
    "    readout=readout,\n",
    "    message_passers=message_passers,\n",
    "    state_updater=state_updater,\n",
    "    node_feature_exctractor=node_feature_exctractor,\n",
    "    edge_feature_exctractor=edge_feature_exctractor,\n",
    "    order=-1,\n",
    "    steps=3,\n",
    "    margin=2.,\n",
    "    wmessages=wmessages,\n",
    "    device=device\n",
    ")"
   ]
  },
  {
   "cell_type": "code",
   "execution_count": 23,
   "metadata": {},
   "outputs": [],
   "source": [
    "train_data, test_data = train_data[::2], train_data[1::2]"
   ]
  },
  {
   "cell_type": "code",
   "execution_count": 24,
   "metadata": {},
   "outputs": [
    {
     "data": {
      "text/plain": [
       "(208, 207)"
      ]
     },
     "execution_count": 24,
     "metadata": {},
     "output_type": "execute_result"
    }
   ],
   "source": [
    "len(train_data), len(test_data)"
   ]
  },
  {
   "cell_type": "code",
   "execution_count": 25,
   "metadata": {},
   "outputs": [],
   "source": [
    "import matplotlib.pyplot as plt"
   ]
  },
  {
   "cell_type": "code",
   "execution_count": 26,
   "metadata": {},
   "outputs": [],
   "source": [
    "def plot_clusters(nodes_predictions, true_labels, azim=47, elev=30):\n",
    "    nodes_predictions = np.array(nodes_predictions.detach())\n",
    "    true_labels = np.array(true_labels)\n",
    "    \n",
    "    \n",
    "    fig = plt.figure(figsize=(8, 8))\n",
    "    for cluster_id in np.unique(true_labels):\n",
    "        plt.hist(\n",
    "            nodes_predictions[true_labels==cluster_id, 0],\n",
    "            bins=50,\n",
    "            alpha=0.4\n",
    "        )\n",
    "        \n",
    "    plt.show()"
   ]
  },
  {
   "cell_type": "code",
   "execution_count": 27,
   "metadata": {},
   "outputs": [],
   "source": [
    "probas = np.ones(len(train_data))"
   ]
  },
  {
   "cell_type": "code",
   "execution_count": 28,
   "metadata": {
    "scrolled": false
   },
   "outputs": [
    {
     "name": "stderr",
     "output_type": "stream",
     "text": [
      "\n",
      "  0%|          | 0/100 [00:00<?, ?it/s]\u001b[A\n",
      "  3%|▎         | 3/100 [00:00<00:03, 24.35it/s]\u001b[A\n",
      "  7%|▋         | 7/100 [00:00<00:03, 29.21it/s]\u001b[A\n",
      " 12%|█▏        | 12/100 [00:00<00:03, 29.29it/s]\u001b[A\n",
      " 16%|█▌        | 16/100 [00:00<00:02, 29.95it/s]\u001b[A\n",
      " 22%|██▏       | 22/100 [00:00<00:02, 34.35it/s]\u001b[A\n",
      " 26%|██▌       | 26/100 [00:00<00:02, 30.64it/s]\u001b[A\n",
      " 30%|███       | 30/100 [00:00<00:02, 30.43it/s]\u001b[A\n",
      " 34%|███▍      | 34/100 [00:01<00:02, 31.15it/s]\u001b[A\n",
      " 38%|███▊      | 38/100 [00:01<00:01, 31.89it/s]\u001b[A\n",
      " 42%|████▏     | 42/100 [00:01<00:01, 31.97it/s]\u001b[A\n",
      " 46%|████▌     | 46/100 [00:01<00:01, 29.66it/s]\u001b[A\n",
      " 49%|████▉     | 49/100 [00:01<00:01, 29.27it/s]\u001b[A\n",
      " 53%|█████▎    | 53/100 [00:01<00:01, 29.90it/s]\u001b[A\n",
      " 57%|█████▋    | 57/100 [00:01<00:01, 29.50it/s]\u001b[A\n",
      " 60%|██████    | 60/100 [00:02<00:01, 28.20it/s]\u001b[A\n",
      " 63%|██████▎   | 63/100 [00:02<00:01, 28.11it/s]\u001b[A\n",
      " 66%|██████▌   | 66/100 [00:02<00:01, 27.78it/s]\u001b[A\n",
      " 69%|██████▉   | 69/100 [00:02<00:01, 26.31it/s]\u001b[A\n",
      " 72%|███████▏  | 72/100 [00:02<00:01, 24.04it/s]\u001b[A\n",
      " 76%|███████▌  | 76/100 [00:03<00:00, 24.50it/s]\u001b[A\n",
      " 82%|████████▏ | 82/100 [00:03<00:00, 25.10it/s]\u001b[A\n",
      " 85%|████████▌ | 85/100 [00:03<00:00, 24.86it/s]\u001b[A\n",
      " 89%|████████▉ | 89/100 [00:03<00:00, 24.95it/s]\u001b[A\n",
      " 93%|█████████▎| 93/100 [00:03<00:00, 25.32it/s]\u001b[A\n",
      " 96%|█████████▌| 96/100 [00:03<00:00, 25.23it/s]\u001b[A\n",
      " 99%|█████████▉| 99/100 [00:04<00:00, 24.70it/s]\u001b[A\n",
      "100%|██████████| 100/100 [00:04<00:00, 24.76it/s]\u001b[A"
     ]
    },
    {
     "data": {
      "image/png": "[encoded data removed]",
      "text/plain": [
       "<Figure size 432x288 with 1 Axes>"
      ]
     },
     "metadata": {},
     "output_type": "display_data"
    },
    {
     "name": "stdout",
     "output_type": "stream",
     "text": [
      "10775.08447265625\n"
     ]
    },
    {
     "data": {
      "image/png": "[encoded data removed]",
      "text/plain": [
       "<Figure size 576x576 with 1 Axes>"
      ]
     },
     "metadata": {},
     "output_type": "display_data"
    },
    {
     "name": "stderr",
     "output_type": "stream",
     "text": [
      "  0%|          | 31/10000 [11:56<64:01:32, 23.12s/it]\n",
      "  0%|          | 0/100 [00:00<?, ?it/s]\u001b[A\n",
      "  1%|          | 1/100 [00:00<00:18,  5.42it/s]\u001b[A\n",
      "  4%|▍         | 4/100 [00:00<00:06, 14.02it/s]\u001b[A\n",
      "  8%|▊         | 8/100 [00:00<00:04, 19.65it/s]\u001b[A\n",
      " 10%|█         | 10/100 [00:00<00:05, 17.84it/s]\u001b[A\n",
      " 13%|█▎        | 13/100 [00:00<00:04, 19.65it/s]\u001b[A\n",
      " 15%|█▌        | 15/100 [00:00<00:04, 19.35it/s]\u001b[A\n",
      " 19%|█▉        | 19/100 [00:00<00:03, 21.55it/s]\u001b[A\n",
      " 23%|██▎       | 23/100 [00:01<00:03, 22.20it/s]\u001b[A\n",
      " 26%|██▌       | 26/100 [00:01<00:03, 21.54it/s]\u001b[A\n",
      " 29%|██▉       | 29/100 [00:01<00:03, 20.06it/s]\u001b[A\n",
      " 32%|███▏      | 32/100 [00:01<00:03, 19.26it/s]\u001b[A\n",
      " 35%|███▌      | 35/100 [00:01<00:03, 19.79it/s]\u001b[A\n",
      " 39%|███▉      | 39/100 [00:01<00:02, 20.62it/s]\u001b[A\n",
      " 42%|████▏     | 42/100 [00:02<00:03, 17.13it/s]\u001b[A\n",
      " 44%|████▍     | 44/100 [00:02<00:03, 16.73it/s]\u001b[A\n",
      " 48%|████▊     | 48/100 [00:02<00:02, 17.45it/s]\u001b[A\n",
      " 51%|█████     | 51/100 [00:02<00:02, 17.55it/s]\u001b[A\n",
      " 54%|█████▍    | 54/100 [00:03<00:02, 17.30it/s]\u001b[A\n",
      " 56%|█████▌    | 56/100 [00:03<00:02, 17.37it/s]\u001b[A\n",
      " 58%|█████▊    | 58/100 [00:03<00:02, 17.21it/s]\u001b[A\n",
      " 60%|██████    | 60/100 [00:03<00:02, 16.57it/s]\u001b[A\n",
      " 62%|██████▏   | 62/100 [00:03<00:02, 15.83it/s]\u001b[A\n",
      " 66%|██████▌   | 66/100 [00:04<00:02, 16.38it/s]\u001b[A\n",
      " 68%|██████▊   | 68/100 [00:04<00:01, 16.19it/s]\u001b[A\n",
      " 71%|███████   | 71/100 [00:04<00:01, 16.45it/s]\u001b[A\n",
      " 73%|███████▎  | 73/100 [00:04<00:01, 16.28it/s]\u001b[A\n",
      " 78%|███████▊  | 78/100 [00:04<00:01, 16.17it/s]\u001b[A\n",
      " 81%|████████  | 81/100 [00:05<00:01, 16.16it/s]\u001b[A\n",
      " 83%|████████▎ | 83/100 [00:05<00:01, 16.23it/s]\u001b[A\n",
      " 85%|████████▌ | 85/100 [00:05<00:00, 16.10it/s]\u001b[A\n",
      " 88%|████████▊ | 88/100 [00:05<00:00, 15.96it/s]\u001b[A\n",
      " 90%|█████████ | 90/100 [00:05<00:00, 16.01it/s]\u001b[A\n",
      " 92%|█████████▏| 92/100 [00:06<00:00, 13.43it/s]\u001b[A\n",
      " 94%|█████████▍| 94/100 [00:07<00:00, 13.01it/s]\u001b[A\n",
      " 95%|█████████▌| 95/100 [00:07<00:00, 12.89it/s]\u001b[A\n",
      " 96%|█████████▌| 96/100 [00:07<00:00, 12.46it/s]\u001b[A\n",
      " 98%|█████████▊| 98/100 [00:07<00:00, 12.50it/s]\u001b[A\n",
      " 99%|█████████▉| 99/100 [00:07<00:00, 12.38it/s]\u001b[A\n",
      "\u001b[A"
     ]
    },
    {
     "ename": "RuntimeError",
     "evalue": "cuda runtime error (2) : out of memory at /opt/conda/conda-bld/pytorch_1524584710464/work/aten/src/THC/generic/THCStorage.cu:58",
     "output_type": "error",
     "traceback": [
      "\u001b[0;31m---------------------------------------------------------------------------\u001b[0m",
      "\u001b[0;31mRuntimeError\u001b[0m                              Traceback (most recent call last)",
      "\u001b[0;32m<timed exec>\u001b[0m in \u001b[0;36m<module>\u001b[0;34m()\u001b[0m\n",
      "\u001b[0;32m<ipython-input-21-d4da3564b612>\u001b[0m in \u001b[0;36mrun_message_passing\u001b[0;34m(graphx, params_mpnn)\u001b[0m\n\u001b[1;32m     18\u001b[0m         \u001b[0mmessages_aggregated_in\u001b[0m\u001b[0;34m[\u001b[0m\u001b[0mmessages_aggregated_in\u001b[0m \u001b[0;34m<\u001b[0m \u001b[0;34m-\u001b[0m\u001b[0;36m1e4\u001b[0m\u001b[0;34m]\u001b[0m \u001b[0;34m=\u001b[0m \u001b[0;36m0\u001b[0m\u001b[0;34m\u001b[0m\u001b[0m\n\u001b[1;32m     19\u001b[0m \u001b[0;34m\u001b[0m\u001b[0m\n\u001b[0;32m---> 20\u001b[0;31m         \u001b[0mmessages_aggregated_out\u001b[0m \u001b[0;34m=\u001b[0m \u001b[0mmessages\u001b[0m\u001b[0;34m[\u001b[0m\u001b[0mgraphx\u001b[0m\u001b[0;34m.\u001b[0m\u001b[0mgraph\u001b[0m\u001b[0;34m[\u001b[0m\u001b[0;34m'X_messages_out'\u001b[0m\u001b[0;34m]\u001b[0m\u001b[0;34m]\u001b[0m\u001b[0;34m.\u001b[0m\u001b[0mmax\u001b[0m\u001b[0;34m(\u001b[0m\u001b[0mdim\u001b[0m\u001b[0;34m=\u001b[0m\u001b[0;36m1\u001b[0m\u001b[0;34m)\u001b[0m\u001b[0;34m[\u001b[0m\u001b[0;36m0\u001b[0m\u001b[0;34m]\u001b[0m\u001b[0;34m\u001b[0m\u001b[0m\n\u001b[0m\u001b[1;32m     21\u001b[0m         \u001b[0mmessages_aggregated_out\u001b[0m\u001b[0;34m[\u001b[0m\u001b[0mmessages_aggregated_out\u001b[0m \u001b[0;34m<\u001b[0m \u001b[0;34m-\u001b[0m\u001b[0;36m1e4\u001b[0m\u001b[0;34m]\u001b[0m \u001b[0;34m=\u001b[0m \u001b[0;36m0\u001b[0m\u001b[0;34m\u001b[0m\u001b[0m\n\u001b[1;32m     22\u001b[0m \u001b[0;34m\u001b[0m\u001b[0m\n",
      "\u001b[0;31mRuntimeError\u001b[0m: cuda runtime error (2) : out of memory at /opt/conda/conda-bld/pytorch_1524584710464/work/aten/src/THC/generic/THCStorage.cu:58"
     ]
    }
   ],
   "source": [
    "%%time\n",
    "losses_train = []\n",
    "losses_test = []\n",
    "N = 100\n",
    "for i in tqdm(range(10000)):\n",
    "    loss = 0\n",
    "    for j in tqdm(range(N)):\n",
    "        k = np.random.choice(len(train_data), p=(probas + 1e-2) / (probas + 1e-2).sum())\n",
    "        graphx = train_data[k]\n",
    "        true_labels = graphx.graph['true_labels']\n",
    "\n",
    "        means, sigmas = run_message_passing(graphx=graphx, params_mpnn=params_mpnn)\n",
    "        clusters = calc_clusters((means, sigmas), true_labels, device=device)\n",
    "        l1 = loss_similar((means, sigmas), true_labels, clusters)\n",
    "        l2 = loss_distinct(clusters)\n",
    "        ll = l1 + l2\n",
    "        probas[k] = ll.item()\n",
    "        loss = loss + ll\n",
    "        \n",
    "    losses_train.append(loss.item() / N)\n",
    "    optimizer_params.zero_grad()\n",
    "    loss.backward()\n",
    "    optimizer_params.step()\n",
    "    \n",
    "    clear_output()\n",
    "    \n",
    "    loss = 0\n",
    "    for j in tqdm(range(N)):\n",
    "        k = (i + j) % len(test_data) #np.random.choice(len(train_data), p=probas / probas.sum())\n",
    "        graphx = test_data[k]\n",
    "        true_labels = graphx.graph['true_labels']\n",
    "\n",
    "        means, sigmas = run_message_passing(graphx=graphx, params_mpnn=params_mpnn)\n",
    "        clusters = calc_clusters((means, sigmas), true_labels, device=device)\n",
    "        l1 = loss_similar((means, sigmas), true_labels, clusters)\n",
    "        l2 = loss_distinct(clusters)\n",
    "        loss = loss + l1 + l2# + loss_m / 100\n",
    "    losses_test.append(loss.item() / N)\n",
    "    \n",
    "    plt.plot(losses_train, label='train');\n",
    "    plt.plot(losses_test, label='test');\n",
    "    plt.legend()\n",
    "    plt.show()\n",
    "\n",
    "    print((torch.cuda.max_memory_allocated() / 2**20))\n",
    "    #plot_graphx(graphx)\n",
    "    plot_clusters(means, true_labels, azim=0, elev=90)\n",
    "    #plot_clusters(means, true_labels, azim=0, elev=90)\n",
    "    \n",
    "    torch.cuda.empty_cache()"
   ]
  }
 ],
 "metadata": {
  "kernelspec": {
   "display_name": "Python 3",
   "language": "python",
   "name": "python3"
  },
  "language_info": {
   "codemirror_mode": {
    "name": "ipython",
    "version": 3
   },
   "file_extension": ".py",
   "mimetype": "text/x-python",
   "name": "python",
   "nbconvert_exporter": "python",
   "pygments_lexer": "ipython3",
   "version": "3.6.6"
  }
 },
 "nbformat": 4,
 "nbformat_minor": 2
}
