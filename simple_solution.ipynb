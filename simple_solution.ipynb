{
 "cells": [
  {
   "cell_type": "code",
   "execution_count": 1,
   "metadata": {
    "scrolled": true
   },
   "outputs": [
    {
     "name": "stdout",
     "output_type": "stream",
     "text": [
      "Welcome to JupyROOT 6.11/01\n"
     ]
    }
   ],
   "source": [
    "import matplotlib.pyplot as plt\n",
    "from collections import defaultdict\n",
    "import numpy as np\n",
    "import seaborn as sns\n",
    "import os\n",
    "import pickle\n",
    "import sys\n",
    "sys.path.append(\"..\")\n",
    "from tqdm import tqdm\n",
    "import networkx as nx\n",
    "from tools.opera_tools import combine_mc_bg, gen_graphx, gen_x_y_dataset, load_bg, load_mc, plot_dataframe\n",
    "from tools.opera_tools import BRICK_X_MAX, BRICK_X_MIN, BRICK_Y_MAX, BRICK_Y_MIN, SAFE_M"
   ]
  },
  {
   "cell_type": "code",
   "execution_count": 2,
   "metadata": {},
   "outputs": [],
   "source": [
    "import os\n",
    "import psutil\n",
    "from sklearn.metrics import roc_auc_score, average_precision_score, accuracy_score, log_loss\n",
    "from sklearn.metrics import precision_recall_curve\n",
    "from IPython.display import clear_output\n",
    "import sys\n",
    "sys.path.append(\"..\")\n",
    "from sklearn.linear_model import TheilSenRegressor\n",
    "from copy import deepcopy      \n",
    "from collections import Counter\n",
    "import pandas as pd\n",
    "EPS = 1e-6"
   ]
  },
  {
   "cell_type": "markdown",
   "metadata": {},
   "source": [
    "## Чтение данных"
   ]
  },
  {
   "cell_type": "code",
   "execution_count": 3,
   "metadata": {},
   "outputs": [],
   "source": [
    "import pandas as pd\n",
    "from tqdm import tqdm_notebook\n",
    "\n",
    "def digraph_to_csv(graphs: list):\n",
    "    df = pd.DataFrame(columns=['brick_id', 'shower_id', 'SX', 'SY', 'SZ', 'TX', 'TY'])\n",
    "    for i, graph in tqdm_notebook(enumerate(graphs)):\n",
    "        nodes = graph.nodes()\n",
    "        SX = [node['features']['SX'] for node in nodes.values()]\n",
    "        SY = [node['features']['SY'] for node in nodes.values()]\n",
    "        SZ = [node['features']['SZ'] for node in nodes.values()]\n",
    "        TX = [node['features']['TX'] for node in nodes.values()]\n",
    "        TY = [node['features']['TY'] for node in nodes.values()]\n",
    "        shower_id = [node['signal'] for node in nodes.values()]\n",
    "        brick_id = [i for _ in range(len(shower_id))]\n",
    "        df = df.append(\n",
    "            pd.DataFrame(\n",
    "                {'brick_id': brick_id, \n",
    "                 'shower_id': shower_id, \n",
    "                 'SX': SX, \n",
    "                 'SY': SY, \n",
    "                 'SZ': SZ, \n",
    "                 'TX': TX, \n",
    "                 'TY': TY\n",
    "                }\n",
    "            )\n",
    "        )\n",
    "    return df\n",
    "        \n",
    "\n",
    "def csv_to_digraph(df: pd.DataFrame):\n",
    "    bricks = []\n",
    "    for name, group in df.groupby('brick_id'):\n",
    "        print(group.shape)\n",
    "        nodes_to_add = []\n",
    "\n",
    "        for node_id, row in group.iterrows():\n",
    "            nodes_to_add.append(\n",
    "                (\n",
    "                    node_id,\n",
    "                    {\n",
    "                        'features': {\n",
    "                            'SX': row.SX,\n",
    "                            'SY': row.SY,\n",
    "                            'SZ': row.SZ,\n",
    "                            'TX': row.TX,\n",
    "                            'TY': row.TY,\n",
    "                        },\n",
    "                        'signal': row['shower_id']\n",
    "                    }\n",
    "                )\n",
    "            )\n",
    "        graphx = nx.DiGraph()\n",
    "        graphx.add_nodes_from(nodes_to_add)\n",
    "        bricks.append(graphx)\n",
    "    return bricks"
   ]
  },
  {
   "cell_type": "code",
   "execution_count": null,
   "metadata": {},
   "outputs": [],
   "source": [
    "df = pd.read_csv('./opera_train.csv')"
   ]
  },
  {
   "cell_type": "code",
   "execution_count": null,
   "metadata": {},
   "outputs": [],
   "source": [
    "# будьте осторжны! Не подавайте на вход весь датафрейм\n",
    "plot_dataframe(df.iloc[df.brick_id==0])"
   ]
  },
  {
   "cell_type": "code",
   "execution_count": null,
   "metadata": {},
   "outputs": [],
   "source": [
    "bricks = csv_to_digraph(df)"
   ]
  },
  {
   "cell_type": "code",
   "execution_count": null,
   "metadata": {},
   "outputs": [],
   "source": [
    "plot_graphx(bricks[0])"
   ]
  },
  {
   "cell_type": "code",
   "execution_count": null,
   "metadata": {},
   "outputs": [],
   "source": []
  },
  {
   "cell_type": "code",
   "execution_count": null,
   "metadata": {},
   "outputs": [],
   "source": []
  },
  {
   "cell_type": "code",
   "execution_count": null,
   "metadata": {},
   "outputs": [],
   "source": []
  }
 ],
 "metadata": {
  "kernelspec": {
   "display_name": "Python 3",
   "language": "python",
   "name": "python3"
  },
  "language_info": {
   "codemirror_mode": {
    "name": "ipython",
    "version": 3
   },
   "file_extension": ".py",
   "mimetype": "text/x-python",
   "name": "python",
   "nbconvert_exporter": "python",
   "pygments_lexer": "ipython3",
   "version": "3.6.6"
  }
 },
 "nbformat": 4,
 "nbformat_minor": 2
}
